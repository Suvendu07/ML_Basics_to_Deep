{
 "cells": [
  {
   "cell_type": "markdown",
   "id": "212e4dee",
   "metadata": {},
   "source": [
    "Pandas Library:\n",
    "\n",
    "Useful for Data Processing & Analysis\n",
    "\n",
    "Pandas Data Frame:\n",
    "\n",
    "Pandas DataFrame is two-dimensional tabular data structure with labeled axes (rows and columns)."
   ]
  },
  {
   "cell_type": "code",
   "execution_count": 1,
   "id": "d6e63c34",
   "metadata": {},
   "outputs": [],
   "source": [
    "# importing the pandas library\n",
    "import pandas as pd\n",
    "import numpy as np"
   ]
  },
  {
   "cell_type": "code",
   "execution_count": null,
   "id": "e57f9ecf",
   "metadata": {},
   "outputs": [],
   "source": [
    "# importing the boston house price data\n",
    "from sklearn.datasets import load_boston"
   ]
  },
  {
   "cell_type": "code",
   "execution_count": null,
   "id": "36acd82b",
   "metadata": {},
   "outputs": [],
   "source": [
    "boston_dataset = load_boston()"
   ]
  },
  {
   "cell_type": "code",
   "execution_count": null,
   "id": "d1077231",
   "metadata": {},
   "outputs": [],
   "source": [
    "type(boston_dataset)"
   ]
  },
  {
   "cell_type": "code",
   "execution_count": null,
   "id": "d8001f5c",
   "metadata": {},
   "outputs": [],
   "source": [
    "print(boston_dataset)"
   ]
  },
  {
   "cell_type": "code",
   "execution_count": null,
   "id": "2e17bc5a",
   "metadata": {},
   "outputs": [],
   "source": [
    "# pandas DataFrame\n",
    "boston_df = pd.DataFrame(boston_dataset.data, columns = boston_dataset.feature_names)"
   ]
  },
  {
   "cell_type": "code",
   "execution_count": null,
   "id": "35679a51",
   "metadata": {},
   "outputs": [],
   "source": [
    "boston_df.head()"
   ]
  },
  {
   "cell_type": "code",
   "execution_count": null,
   "id": "51dbe6f3",
   "metadata": {},
   "outputs": [],
   "source": [
    "boston_df.shape"
   ]
  },
  {
   "cell_type": "code",
   "execution_count": null,
   "id": "873b6685",
   "metadata": {},
   "outputs": [],
   "source": [
    "type(boston_df)"
   ]
  },
  {
   "cell_type": "code",
   "execution_count": null,
   "id": "86a6c9b8",
   "metadata": {},
   "outputs": [],
   "source": [
    "# csv file to pandas df\n",
    "diabetes_df = pd.read_csv('/content/diabetes.csv')"
   ]
  },
  {
   "cell_type": "code",
   "execution_count": null,
   "id": "efcd4afe",
   "metadata": {},
   "outputs": [],
   "source": [
    "type(diabetes_df)"
   ]
  },
  {
   "cell_type": "code",
   "execution_count": null,
   "id": "5553e537",
   "metadata": {},
   "outputs": [],
   "source": [
    "diabetes_df.head()"
   ]
  },
  {
   "cell_type": "code",
   "execution_count": null,
   "id": "0e95bff0",
   "metadata": {},
   "outputs": [],
   "source": [
    "diabetes_df.shape"
   ]
  },
  {
   "cell_type": "code",
   "execution_count": null,
   "id": "b2c400bb",
   "metadata": {},
   "outputs": [],
   "source": [
    "boston_df.to_csv('boston.csv')"
   ]
  },
  {
   "cell_type": "code",
   "execution_count": null,
   "id": "dffa2d42",
   "metadata": {},
   "outputs": [],
   "source": [
    "# df.to_excel('filename')"
   ]
  },
  {
   "cell_type": "code",
   "execution_count": null,
   "id": "1c32340c",
   "metadata": {},
   "outputs": [],
   "source": [
    "# creating a DatFrame with random values\n",
    "random_df = pd.DataFrame(np.random.rand(20,10))"
   ]
  },
  {
   "cell_type": "code",
   "execution_count": null,
   "id": "c3b2ee7d",
   "metadata": {},
   "outputs": [],
   "source": [
    "random_df.head()"
   ]
  },
  {
   "cell_type": "code",
   "execution_count": null,
   "id": "1c168576",
   "metadata": {},
   "outputs": [],
   "source": [
    "random_df.shape"
   ]
  },
  {
   "cell_type": "code",
   "execution_count": null,
   "id": "954579fc",
   "metadata": {},
   "outputs": [],
   "source": [
    "#finding the number of rows & columns\n",
    "boston_df.shape"
   ]
  },
  {
   "cell_type": "code",
   "execution_count": null,
   "id": "1b37a7e3",
   "metadata": {},
   "outputs": [],
   "source": [
    "# first 5 rows in a DataFrame\n",
    "boston_df.head()"
   ]
  },
  {
   "cell_type": "code",
   "execution_count": null,
   "id": "14586e15",
   "metadata": {},
   "outputs": [],
   "source": [
    "# last 5 rows of the DataFrame\n",
    "boston_df.tail()"
   ]
  },
  {
   "cell_type": "code",
   "execution_count": null,
   "id": "b796c649",
   "metadata": {},
   "outputs": [],
   "source": [
    "# informations about the DataFrame\n",
    "boston_df.info()"
   ]
  },
  {
   "cell_type": "code",
   "execution_count": null,
   "id": "21448e2b",
   "metadata": {},
   "outputs": [],
   "source": [
    "# finding the number of missing values\n",
    "boston_df.isnull().sum()"
   ]
  },
  {
   "cell_type": "code",
   "execution_count": null,
   "id": "6c25c113",
   "metadata": {},
   "outputs": [],
   "source": [
    "# diabetes dataframe\n",
    "diabetes_df.head()"
   ]
  },
  {
   "cell_type": "code",
   "execution_count": null,
   "id": "9de91ef0",
   "metadata": {},
   "outputs": [],
   "source": [
    "# counting the values based on the labels\n",
    "diabetes_df.value_counts('Outcome')"
   ]
  },
  {
   "cell_type": "code",
   "execution_count": null,
   "id": "f9b2ec5f",
   "metadata": {},
   "outputs": [],
   "source": [
    "# group the values based on the mean\n",
    "diabetes_df.groupby('Outcome').mean()"
   ]
  },
  {
   "cell_type": "code",
   "execution_count": null,
   "id": "658af45f",
   "metadata": {},
   "outputs": [],
   "source": [
    "# count or number of values\n",
    "boston_df.count()"
   ]
  },
  {
   "cell_type": "code",
   "execution_count": null,
   "id": "9926089a",
   "metadata": {},
   "outputs": [],
   "source": [
    "# mean value - column wise\n",
    "boston_df.mean()"
   ]
  },
  {
   "cell_type": "code",
   "execution_count": null,
   "id": "37f1874c",
   "metadata": {},
   "outputs": [],
   "source": [
    "# standard deviation - column wise\n",
    "boston_df.std()"
   ]
  },
  {
   "cell_type": "code",
   "execution_count": null,
   "id": "de56701b",
   "metadata": {},
   "outputs": [],
   "source": [
    "# minimum value\n",
    "boston_df.min()"
   ]
  },
  {
   "cell_type": "code",
   "execution_count": null,
   "id": "7ba7f7cf",
   "metadata": {},
   "outputs": [],
   "source": [
    "# maximum value\n",
    "boston_df.max()"
   ]
  },
  {
   "cell_type": "code",
   "execution_count": null,
   "id": "6b226f1c",
   "metadata": {},
   "outputs": [],
   "source": [
    "# all the statistical measures about the dataframe\n",
    "boston_df.describe()"
   ]
  },
  {
   "cell_type": "code",
   "execution_count": null,
   "id": "791f7854",
   "metadata": {},
   "outputs": [],
   "source": [
    "# adding a column to a dataframe\n",
    "boston_df['Price'] = boston_dataset.target"
   ]
  },
  {
   "cell_type": "code",
   "execution_count": null,
   "id": "0f9b1277",
   "metadata": {},
   "outputs": [],
   "source": [
    "boston_df.head()"
   ]
  },
  {
   "cell_type": "code",
   "execution_count": null,
   "id": "c36658bb",
   "metadata": {},
   "outputs": [],
   "source": [
    "# removing a row\n",
    "boston_df.drop(index=0, axis=0)"
   ]
  },
  {
   "cell_type": "code",
   "execution_count": null,
   "id": "ab6b7448",
   "metadata": {},
   "outputs": [],
   "source": [
    "# drop a column\n",
    "boston_df.drop(columns='ZN', axis=1)"
   ]
  },
  {
   "cell_type": "code",
   "execution_count": null,
   "id": "67fc247e",
   "metadata": {},
   "outputs": [],
   "source": [
    "# locating a row using the index value\n",
    "boston_df.iloc[2]"
   ]
  },
  {
   "cell_type": "code",
   "execution_count": null,
   "id": "4f1a001d",
   "metadata": {},
   "outputs": [],
   "source": [
    "# locating a particular column\n",
    "print(boston_df.iloc[:,0])  # first column\n",
    "print(boston_df.iloc[:,1])  # second column\n",
    "print(boston_df.iloc[:,2])  # third column\n",
    "print(boston_df.iloc[:,-1]) # last column"
   ]
  },
  {
   "cell_type": "code",
   "execution_count": null,
   "id": "ffee3b7c",
   "metadata": {},
   "outputs": [],
   "source": [
    "boston_df.corr()"
   ]
  },
  {
   "cell_type": "code",
   "execution_count": null,
   "id": "be0159b6",
   "metadata": {},
   "outputs": [],
   "source": []
  }
 ],
 "metadata": {
  "kernelspec": {
   "display_name": "venv",
   "language": "python",
   "name": "python3"
  },
  "language_info": {
   "codemirror_mode": {
    "name": "ipython",
    "version": 3
   },
   "file_extension": ".py",
   "mimetype": "text/x-python",
   "name": "python",
   "nbconvert_exporter": "python",
   "pygments_lexer": "ipython3",
   "version": "3.12.4"
  }
 },
 "nbformat": 4,
 "nbformat_minor": 5
}
