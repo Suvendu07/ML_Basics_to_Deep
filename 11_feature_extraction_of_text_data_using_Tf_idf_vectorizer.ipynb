{
 "cells": [
  {
   "cell_type": "code",
   "execution_count": null,
   "id": "62636145",
   "metadata": {},
   "outputs": [],
   "source": [
    "import numpy as np\n",
    "import pandas as pd\n",
    "import re\n",
    "from nltk.corpus import stopwords\n",
    "from nltk.stem.porter import PorterStemmer\n",
    "from sklearn.feature_extraction.text import TfidfVectorizer"
   ]
  },
  {
   "cell_type": "code",
   "execution_count": null,
   "id": "0274d809",
   "metadata": {},
   "outputs": [],
   "source": [
    "import nltk\n",
    "nltk.download('stopwords')"
   ]
  },
  {
   "cell_type": "code",
   "execution_count": null,
   "id": "6a076a2b",
   "metadata": {},
   "outputs": [],
   "source": [
    "print(stopwords.words('english'))"
   ]
  },
  {
   "cell_type": "code",
   "execution_count": null,
   "id": "c2e1b31d",
   "metadata": {},
   "outputs": [],
   "source": [
    "# loading the dataset to a pandas dataframe\n",
    "df = pd.read_csv(\"D:/Dataset for ML/fake_news_dataset.csv\")"
   ]
  },
  {
   "cell_type": "code",
   "execution_count": null,
   "id": "82723dc7",
   "metadata": {},
   "outputs": [],
   "source": [
    "df.head()"
   ]
  },
  {
   "cell_type": "code",
   "execution_count": null,
   "id": "f9e3ea41",
   "metadata": {},
   "outputs": [],
   "source": [
    "df.isnull().sum()"
   ]
  },
  {
   "cell_type": "code",
   "execution_count": null,
   "id": "17d89905",
   "metadata": {},
   "outputs": [],
   "source": [
    "df = df.fillna('')"
   ]
  },
  {
   "cell_type": "code",
   "execution_count": null,
   "id": "1563a1db",
   "metadata": {},
   "outputs": [],
   "source": [
    "df.isnull().sum()"
   ]
  },
  {
   "cell_type": "code",
   "execution_count": null,
   "id": "5010f8aa",
   "metadata": {},
   "outputs": [],
   "source": [
    "df['content'] = df['author'] + ' ' + df['title']"
   ]
  },
  {
   "cell_type": "code",
   "execution_count": null,
   "id": "796c24cd",
   "metadata": {},
   "outputs": [],
   "source": [
    "df.head()"
   ]
  },
  {
   "cell_type": "code",
   "execution_count": null,
   "id": "322ae618",
   "metadata": {},
   "outputs": [],
   "source": [
    "print(df['content'])"
   ]
  },
  {
   "cell_type": "code",
   "execution_count": null,
   "id": "3c0ba359",
   "metadata": {},
   "outputs": [],
   "source": [
    "# separate the data and label\n",
    "x = df.drop(columns='label', axis=1)\n",
    "y = df['label']"
   ]
  },
  {
   "cell_type": "code",
   "execution_count": null,
   "id": "6a08eec2",
   "metadata": {},
   "outputs": [],
   "source": [
    "x"
   ]
  },
  {
   "cell_type": "code",
   "execution_count": null,
   "id": "4eedf53b",
   "metadata": {},
   "outputs": [],
   "source": [
    "y"
   ]
  },
  {
   "cell_type": "code",
   "execution_count": null,
   "id": "c8230a5c",
   "metadata": {},
   "outputs": [],
   "source": [
    "port_stem = PorterStemmer()"
   ]
  },
  {
   "cell_type": "code",
   "execution_count": null,
   "id": "19f8fddf",
   "metadata": {},
   "outputs": [],
   "source": [
    "def streaming(content):\n",
    "    stream_content = re.sub('[^a-zA-Z]', '', content)\n",
    "    stream_content = stream_content.lower()\n",
    "    stream_content = stream_content.split()\n",
    "    stream_content = [port_stem.stem(word) for word in stream_content \n",
    "                       if not word in stopwords.words('english')]\n",
    "    stream_content = ''.join(stream_content)\n",
    "    return stream_content"
   ]
  },
  {
   "cell_type": "code",
   "execution_count": null,
   "id": "1ab12903",
   "metadata": {},
   "outputs": [],
   "source": [
    "df['content'] = df['content'].apply(streaming)"
   ]
  },
  {
   "cell_type": "code",
   "execution_count": null,
   "id": "07625f41",
   "metadata": {},
   "outputs": [],
   "source": [
    "x = df['content'].values\n",
    "y = df['label'].values"
   ]
  },
  {
   "cell_type": "code",
   "execution_count": null,
   "id": "4cae5aba",
   "metadata": {},
   "outputs": [],
   "source": [
    "print(x)"
   ]
  },
  {
   "cell_type": "code",
   "execution_count": null,
   "id": "fd216e56",
   "metadata": {},
   "outputs": [],
   "source": [
    "print(y)"
   ]
  },
  {
   "cell_type": "code",
   "execution_count": null,
   "id": "79744aec",
   "metadata": {},
   "outputs": [],
   "source": [
    "vectorizer = TfidfVectorizer()"
   ]
  },
  {
   "cell_type": "code",
   "execution_count": null,
   "id": "c56e0cc0",
   "metadata": {},
   "outputs": [],
   "source": [
    "vectorizer.fit(x)"
   ]
  },
  {
   "cell_type": "code",
   "execution_count": null,
   "id": "c2542385",
   "metadata": {},
   "outputs": [],
   "source": [
    "x = vectorizer.transform(x)"
   ]
  },
  {
   "cell_type": "code",
   "execution_count": null,
   "id": "d44896e7",
   "metadata": {},
   "outputs": [],
   "source": [
    "print(x)"
   ]
  },
  {
   "cell_type": "code",
   "execution_count": null,
   "id": "79016982",
   "metadata": {},
   "outputs": [],
   "source": []
  }
 ],
 "metadata": {
  "kernelspec": {
   "display_name": "venv",
   "language": "python",
   "name": "python3"
  },
  "language_info": {
   "codemirror_mode": {
    "name": "ipython",
    "version": 3
   },
   "file_extension": ".py",
   "mimetype": "text/x-python",
   "name": "python",
   "nbconvert_exporter": "python",
   "pygments_lexer": "ipython3",
   "version": "3.12.4"
  }
 },
 "nbformat": 4,
 "nbformat_minor": 5
}
