{
 "cells": [
  {
   "cell_type": "code",
   "execution_count": 1,
   "id": "80b7bcfe",
   "metadata": {},
   "outputs": [],
   "source": [
    "import numpy as np"
   ]
  },
  {
   "cell_type": "markdown",
   "id": "0d9b59e4",
   "metadata": {},
   "source": [
    "Dot Product of 2 Vectors"
   ]
  },
  {
   "cell_type": "code",
   "execution_count": 2,
   "id": "b6bd5dfa",
   "metadata": {},
   "outputs": [],
   "source": [
    "a = np.array([2, 3])\n",
    "\n",
    "b = np.array([4, 4])\n",
    "\n",
    "a_dot_b = np.dot(a, b)"
   ]
  },
  {
   "cell_type": "code",
   "execution_count": 3,
   "id": "e4054c4b",
   "metadata": {},
   "outputs": [
    {
     "name": "stdout",
     "output_type": "stream",
     "text": [
      "20\n"
     ]
    }
   ],
   "source": [
    "print(a_dot_b)"
   ]
  },
  {
   "cell_type": "code",
   "execution_count": 5,
   "id": "bed6cf53",
   "metadata": {},
   "outputs": [
    {
     "name": "stdout",
     "output_type": "stream",
     "text": [
      "4980\n"
     ]
    }
   ],
   "source": [
    "c = np.array([40, 20, 35])\n",
    "\n",
    "d = np.array([53, 24, 68])\n",
    "\n",
    "c_dot_d = np.dot(c, d)\n",
    "     \n",
    "\n",
    "print(c_dot_d)"
   ]
  },
  {
   "cell_type": "markdown",
   "id": "545a31f6",
   "metadata": {},
   "source": [
    "Cross Product of 2 Vectors"
   ]
  },
  {
   "cell_type": "code",
   "execution_count": 6,
   "id": "eacc6834",
   "metadata": {},
   "outputs": [
    {
     "name": "stderr",
     "output_type": "stream",
     "text": [
      "C:\\Users\\Suvendu Khuntia\\AppData\\Local\\Temp\\ipykernel_16524\\1135455818.py:5: DeprecationWarning: Arrays of 2-dimensional vectors are deprecated. Use arrays of 3-dimensional vectors instead. (deprecated in NumPy 2.0)\n",
      "  a_cross_b = np.cross(a, b)\n"
     ]
    }
   ],
   "source": [
    "a = np.array([2, 3])\n",
    "\n",
    "b = np.array([4, 4])\n",
    "\n",
    "a_cross_b = np.cross(a, b)"
   ]
  },
  {
   "cell_type": "code",
   "execution_count": 7,
   "id": "6beeb0dd",
   "metadata": {},
   "outputs": [
    {
     "name": "stdout",
     "output_type": "stream",
     "text": [
      "-4\n"
     ]
    }
   ],
   "source": [
    "print(a_cross_b)"
   ]
  },
  {
   "cell_type": "code",
   "execution_count": 9,
   "id": "a1b4a840",
   "metadata": {},
   "outputs": [
    {
     "name": "stdout",
     "output_type": "stream",
     "text": [
      "[-140  110  -20]\n"
     ]
    }
   ],
   "source": [
    "c = np.array([5, 10, 20])\n",
    "\n",
    "d = np.array([18, 32, 50])\n",
    "\n",
    "c_cross_d = np.cross(c, d)\n",
    "\n",
    "print(c_cross_d)"
   ]
  },
  {
   "cell_type": "markdown",
   "id": "a73f83d8",
   "metadata": {},
   "source": [
    "Projection of \"a\" vector on \"v\" vector"
   ]
  },
  {
   "cell_type": "code",
   "execution_count": 10,
   "id": "7a8c1ddd",
   "metadata": {},
   "outputs": [
    {
     "name": "stdout",
     "output_type": "stream",
     "text": [
      "Projection of a vector on v vector =  [-1.12  0.84]\n"
     ]
    }
   ],
   "source": [
    "a = np.array([2, 5])\n",
    "\n",
    "v = np.array([8, -6])\n",
    "\n",
    "# magnitude of \"v\" vector\n",
    "magnitude_of_v = np.sqrt(sum(v**2))\n",
    "\n",
    "proj_of_a_on_v = (np.dot(a,v)/magnitude_of_v**2)*v \n",
    "\n",
    "print('Projection of a vector on v vector = ', proj_of_a_on_v)"
   ]
  },
  {
   "cell_type": "code",
   "execution_count": 11,
   "id": "888f1010",
   "metadata": {},
   "outputs": [
    {
     "name": "stdout",
     "output_type": "stream",
     "text": [
      "Projection of a vector on v vector =  [30.18242937 54.99909352 44.93828373]\n"
     ]
    }
   ],
   "source": [
    "a = np.array([23, 45, 62])\n",
    "\n",
    "v = np.array([45, 82, 67])\n",
    "\n",
    "# magnitude of \"v\" vector\n",
    "magnitude_of_v = np.sqrt(sum(v**2))\n",
    "\n",
    "proj_of_a_on_v = (np.dot(a,v)/magnitude_of_v**2)*v \n",
    "\n",
    "print('Projection of a vector on v vector = ', proj_of_a_on_v)"
   ]
  },
  {
   "cell_type": "code",
   "execution_count": null,
   "id": "3659e897",
   "metadata": {},
   "outputs": [],
   "source": []
  }
 ],
 "metadata": {
  "kernelspec": {
   "display_name": "venv",
   "language": "python",
   "name": "python3"
  },
  "language_info": {
   "codemirror_mode": {
    "name": "ipython",
    "version": 3
   },
   "file_extension": ".py",
   "mimetype": "text/x-python",
   "name": "python",
   "nbconvert_exporter": "python",
   "pygments_lexer": "ipython3",
   "version": "3.12.4"
  }
 },
 "nbformat": 4,
 "nbformat_minor": 5
}
