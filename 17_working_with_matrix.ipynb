{
 "cells": [
  {
   "cell_type": "code",
   "execution_count": 1,
   "id": "32331416",
   "metadata": {},
   "outputs": [],
   "source": [
    "import numpy as np"
   ]
  },
  {
   "cell_type": "code",
   "execution_count": 4,
   "id": "cabfa269",
   "metadata": {},
   "outputs": [
    {
     "name": "stdout",
     "output_type": "stream",
     "text": [
      "[[12 45]\n",
      " [78 79]]\n"
     ]
    }
   ],
   "source": [
    "# create a matrix\n",
    "matrix_1 = np.array([[12,45],[78,79]])\n",
    "print(matrix_1)"
   ]
  },
  {
   "cell_type": "code",
   "execution_count": 5,
   "id": "2c2919ad",
   "metadata": {},
   "outputs": [
    {
     "data": {
      "text/plain": [
       "(2, 2)"
      ]
     },
     "execution_count": 5,
     "metadata": {},
     "output_type": "execute_result"
    }
   ],
   "source": [
    "matrix_1.shape"
   ]
  },
  {
   "cell_type": "code",
   "execution_count": 6,
   "id": "677107b3",
   "metadata": {},
   "outputs": [
    {
     "name": "stdout",
     "output_type": "stream",
     "text": [
      "[[12 34 45]\n",
      " [45 56 78]\n",
      " [56 76 78]]\n"
     ]
    }
   ],
   "source": [
    "matrix_2 = np.array([[12,34,45],[45,56,78],[56,76,78]])\n",
    "print(matrix_2)"
   ]
  },
  {
   "cell_type": "code",
   "execution_count": 7,
   "id": "9130a6ba",
   "metadata": {},
   "outputs": [
    {
     "data": {
      "text/plain": [
       "(3, 3)"
      ]
     },
     "execution_count": 7,
     "metadata": {},
     "output_type": "execute_result"
    }
   ],
   "source": [
    "matrix_2.shape"
   ]
  },
  {
   "cell_type": "code",
   "execution_count": 8,
   "id": "0a0cb0d8",
   "metadata": {},
   "outputs": [
    {
     "name": "stdout",
     "output_type": "stream",
     "text": [
      "[[0.17608803 0.98438423 0.7668072 ]\n",
      " [0.59721248 0.1319171  0.55374827]\n",
      " [0.10595642 0.62034964 0.69325821]]\n"
     ]
    }
   ],
   "source": [
    "# creating matrix with random value\n",
    "random_matrix = np.random.rand(3,3)\n",
    "print(random_matrix)"
   ]
  },
  {
   "cell_type": "code",
   "execution_count": 9,
   "id": "533d8bc8",
   "metadata": {},
   "outputs": [
    {
     "name": "stdout",
     "output_type": "stream",
     "text": [
      "[[83 88 71 91]\n",
      " [67 34 17 77]\n",
      " [19 71 18 45]\n",
      " [94 64 58 97]]\n"
     ]
    }
   ],
   "source": [
    "# creating matrix with random integers\n",
    "random_int = np.random.randint(100, size=(4,4))\n",
    "print(random_int)"
   ]
  },
  {
   "cell_type": "code",
   "execution_count": 10,
   "id": "e9c9faf7",
   "metadata": {},
   "outputs": [
    {
     "name": "stdout",
     "output_type": "stream",
     "text": [
      "[[1 1 1 1]\n",
      " [1 1 1 1]\n",
      " [1 1 1 1]\n",
      " [1 1 1 1]]\n"
     ]
    }
   ],
   "source": [
    "# create matrix with one\n",
    "one_matrix = np.ones((4,4), dtype='int')\n",
    "print(one_matrix)"
   ]
  },
  {
   "cell_type": "code",
   "execution_count": 12,
   "id": "8853a7aa",
   "metadata": {},
   "outputs": [
    {
     "name": "stdout",
     "output_type": "stream",
     "text": [
      "[[0. 0. 0. 0. 0.]\n",
      " [0. 0. 0. 0. 0.]\n",
      " [0. 0. 0. 0. 0.]\n",
      " [0. 0. 0. 0. 0.]]\n"
     ]
    }
   ],
   "source": [
    "# NUll matrix or Zero matrix\n",
    "zero_matrix = np.zeros((4,5))\n",
    "print(zero_matrix)"
   ]
  },
  {
   "cell_type": "code",
   "execution_count": 13,
   "id": "2f56dad6",
   "metadata": {},
   "outputs": [
    {
     "name": "stdout",
     "output_type": "stream",
     "text": [
      "[[1. 0. 0.]\n",
      " [0. 1. 0.]\n",
      " [0. 0. 1.]]\n"
     ]
    }
   ],
   "source": [
    "# identity matrix\n",
    "identity_matrix = np.eye(3,3)\n",
    "print(identity_matrix)"
   ]
  },
  {
   "cell_type": "code",
   "execution_count": 15,
   "id": "f35f1ba5",
   "metadata": {},
   "outputs": [
    {
     "name": "stdout",
     "output_type": "stream",
     "text": [
      "[[79 40 76 64 77]\n",
      " [53 64 89 48 59]\n",
      " [71 90 49 53  4]\n",
      " [93 88 20 81 23]]\n"
     ]
    }
   ],
   "source": [
    "# transpose of a matrix\n",
    "a = np.random.randint(100, size = (4,5))\n",
    "print(a)"
   ]
  },
  {
   "cell_type": "code",
   "execution_count": 16,
   "id": "aee58ea7",
   "metadata": {},
   "outputs": [],
   "source": [
    "t_a = np.transpose(a)"
   ]
  },
  {
   "cell_type": "code",
   "execution_count": 17,
   "id": "744c65d4",
   "metadata": {},
   "outputs": [
    {
     "name": "stdout",
     "output_type": "stream",
     "text": [
      "[[79 53 71 93]\n",
      " [40 64 90 88]\n",
      " [76 89 49 20]\n",
      " [64 48 53 81]\n",
      " [77 59  4 23]]\n"
     ]
    }
   ],
   "source": [
    "print(t_a)"
   ]
  },
  {
   "cell_type": "code",
   "execution_count": null,
   "id": "eda7e43f",
   "metadata": {},
   "outputs": [],
   "source": []
  }
 ],
 "metadata": {
  "kernelspec": {
   "display_name": "venv",
   "language": "python",
   "name": "python3"
  },
  "language_info": {
   "codemirror_mode": {
    "name": "ipython",
    "version": 3
   },
   "file_extension": ".py",
   "mimetype": "text/x-python",
   "name": "python",
   "nbconvert_exporter": "python",
   "pygments_lexer": "ipython3",
   "version": "3.12.4"
  }
 },
 "nbformat": 4,
 "nbformat_minor": 5
}
