{
 "cells": [
  {
   "cell_type": "code",
   "execution_count": 1,
   "id": "099da117",
   "metadata": {},
   "outputs": [],
   "source": [
    "import numpy as np"
   ]
  },
  {
   "cell_type": "code",
   "execution_count": 2,
   "id": "75126fb8",
   "metadata": {},
   "outputs": [],
   "source": [
    "# Creating two matrix\n",
    "a = np.array([[3,4],[7,8]])\n",
    "b = np.array([[8,8],[9,6]])"
   ]
  },
  {
   "cell_type": "code",
   "execution_count": 3,
   "id": "9720de5f",
   "metadata": {},
   "outputs": [
    {
     "name": "stdout",
     "output_type": "stream",
     "text": [
      "[[3 4]\n",
      " [7 8]]\n"
     ]
    }
   ],
   "source": [
    "print(a)"
   ]
  },
  {
   "cell_type": "code",
   "execution_count": 4,
   "id": "277d38fc",
   "metadata": {},
   "outputs": [
    {
     "name": "stdout",
     "output_type": "stream",
     "text": [
      "[[8 8]\n",
      " [9 6]]\n"
     ]
    }
   ],
   "source": [
    "print(b)"
   ]
  },
  {
   "cell_type": "code",
   "execution_count": 5,
   "id": "22927df7",
   "metadata": {},
   "outputs": [
    {
     "name": "stdout",
     "output_type": "stream",
     "text": [
      "[[11 12]\n",
      " [16 14]]\n"
     ]
    }
   ],
   "source": [
    "sum = a + b\n",
    "print(sum)"
   ]
  },
  {
   "cell_type": "code",
   "execution_count": 6,
   "id": "c0d977fa",
   "metadata": {},
   "outputs": [],
   "source": [
    "# create two matrix with random value\n",
    "A = np.random.randint(10, size=(6,6))\n",
    "B = np.random.randint(10, size = (6,6))"
   ]
  },
  {
   "cell_type": "code",
   "execution_count": 7,
   "id": "e0a0e9b8",
   "metadata": {},
   "outputs": [
    {
     "name": "stdout",
     "output_type": "stream",
     "text": [
      "[[7 5 7 7 0 5]\n",
      " [2 7 0 6 9 6]\n",
      " [7 9 8 5 2 8]\n",
      " [8 2 4 6 4 0]\n",
      " [2 6 7 1 6 3]\n",
      " [9 5 4 5 3 1]]\n"
     ]
    }
   ],
   "source": [
    "print(A)"
   ]
  },
  {
   "cell_type": "code",
   "execution_count": 9,
   "id": "84e2da8d",
   "metadata": {},
   "outputs": [
    {
     "name": "stdout",
     "output_type": "stream",
     "text": [
      "[[6 1 0 3 1 4]\n",
      " [3 2 8 1 5 8]\n",
      " [3 2 9 3 7 4]\n",
      " [5 6 9 4 4 6]\n",
      " [1 6 9 2 0 3]\n",
      " [8 5 2 1 2 5]]\n"
     ]
    }
   ],
   "source": [
    "print(B)"
   ]
  },
  {
   "cell_type": "code",
   "execution_count": 10,
   "id": "f661b0cb",
   "metadata": {},
   "outputs": [],
   "source": [
    "sum = np.add(A, B)"
   ]
  },
  {
   "cell_type": "code",
   "execution_count": 11,
   "id": "4841dc16",
   "metadata": {},
   "outputs": [
    {
     "name": "stdout",
     "output_type": "stream",
     "text": [
      "[[13  6  7 10  1  9]\n",
      " [ 5  9  8  7 14 14]\n",
      " [10 11 17  8  9 12]\n",
      " [13  8 13 10  8  6]\n",
      " [ 3 12 16  3  6  6]\n",
      " [17 10  6  6  5  6]]\n"
     ]
    }
   ],
   "source": [
    "print(sum)"
   ]
  },
  {
   "cell_type": "markdown",
   "id": "828b3cdf",
   "metadata": {},
   "source": [
    "\n",
    "Matrix Subtraction"
   ]
  },
  {
   "cell_type": "code",
   "execution_count": 12,
   "id": "2492ca41",
   "metadata": {},
   "outputs": [],
   "source": [
    "# Creating two matrix\n",
    "A = np.array([[7,7],[9,8]])\n",
    "B = np.array([[6,6],[3,3]])"
   ]
  },
  {
   "cell_type": "code",
   "execution_count": 13,
   "id": "30727e5d",
   "metadata": {},
   "outputs": [
    {
     "name": "stdout",
     "output_type": "stream",
     "text": [
      "[[7 7]\n",
      " [9 8]]\n"
     ]
    }
   ],
   "source": [
    "print(A)"
   ]
  },
  {
   "cell_type": "code",
   "execution_count": 14,
   "id": "38015600",
   "metadata": {},
   "outputs": [
    {
     "name": "stdout",
     "output_type": "stream",
     "text": [
      "[[6 6]\n",
      " [3 3]]\n"
     ]
    }
   ],
   "source": [
    "print(B)"
   ]
  },
  {
   "cell_type": "code",
   "execution_count": 15,
   "id": "f76d28b2",
   "metadata": {},
   "outputs": [
    {
     "name": "stdout",
     "output_type": "stream",
     "text": [
      "[[1 1]\n",
      " [6 5]]\n"
     ]
    }
   ],
   "source": [
    "diff = A - B\n",
    "print(diff)"
   ]
  },
  {
   "cell_type": "code",
   "execution_count": 16,
   "id": "d9b212a3",
   "metadata": {},
   "outputs": [
    {
     "name": "stdout",
     "output_type": "stream",
     "text": [
      "[[1 1]\n",
      " [6 5]]\n"
     ]
    }
   ],
   "source": [
    "diff = np.subtract(A,B)\n",
    "print(diff)"
   ]
  },
  {
   "cell_type": "markdown",
   "id": "df4d3248",
   "metadata": {},
   "source": [
    "\n",
    "Multiplying a matrix by a scalar"
   ]
  },
  {
   "cell_type": "code",
   "execution_count": 17,
   "id": "8b9f7419",
   "metadata": {},
   "outputs": [],
   "source": [
    "x = 5\n",
    "y = np.random.randint(10, size=(4,4))"
   ]
  },
  {
   "cell_type": "code",
   "execution_count": 18,
   "id": "c8a4bebd",
   "metadata": {},
   "outputs": [
    {
     "name": "stdout",
     "output_type": "stream",
     "text": [
      "[[7 1 0 5]\n",
      " [2 9 1 2]\n",
      " [7 4 7 6]\n",
      " [4 2 9 8]]\n"
     ]
    }
   ],
   "source": [
    "print(y)"
   ]
  },
  {
   "cell_type": "code",
   "execution_count": 19,
   "id": "cc62bad8",
   "metadata": {},
   "outputs": [],
   "source": [
    "product = np.multiply(x,y)"
   ]
  },
  {
   "cell_type": "code",
   "execution_count": 20,
   "id": "eb5bb88d",
   "metadata": {},
   "outputs": [
    {
     "name": "stdout",
     "output_type": "stream",
     "text": [
      "[[35  5  0 25]\n",
      " [10 45  5 10]\n",
      " [35 20 35 30]\n",
      " [20 10 45 40]]\n"
     ]
    }
   ],
   "source": [
    "print(product)"
   ]
  },
  {
   "cell_type": "markdown",
   "id": "aeb5ee46",
   "metadata": {},
   "source": [
    "\n",
    "Multiplying 2 Matrices"
   ]
  },
  {
   "cell_type": "code",
   "execution_count": 21,
   "id": "bc9e3172",
   "metadata": {},
   "outputs": [],
   "source": [
    "# create two matrices with random values\n",
    "matrix_3 = np.random.randint(5, size=(3,3))\n",
    "matrix_4 = np.random.randint(5, size=(3,4))"
   ]
  },
  {
   "cell_type": "code",
   "execution_count": 22,
   "id": "d8436b2e",
   "metadata": {},
   "outputs": [
    {
     "name": "stdout",
     "output_type": "stream",
     "text": [
      "[[2 2 3]\n",
      " [0 2 3]\n",
      " [4 1 1]]\n"
     ]
    }
   ],
   "source": [
    "print(matrix_3)"
   ]
  },
  {
   "cell_type": "code",
   "execution_count": 24,
   "id": "fd5b3ff1",
   "metadata": {},
   "outputs": [
    {
     "name": "stdout",
     "output_type": "stream",
     "text": [
      "[[2 3 0 1]\n",
      " [2 2 1 0]\n",
      " [0 1 1 3]]\n"
     ]
    }
   ],
   "source": [
    "print(matrix_4)"
   ]
  },
  {
   "cell_type": "code",
   "execution_count": 25,
   "id": "8dbfcd5e",
   "metadata": {},
   "outputs": [],
   "source": [
    "product = np.dot(matrix_3, matrix_4)"
   ]
  },
  {
   "cell_type": "code",
   "execution_count": 26,
   "id": "9aa12dc4",
   "metadata": {},
   "outputs": [
    {
     "name": "stdout",
     "output_type": "stream",
     "text": [
      "[[ 8 13  5 11]\n",
      " [ 4  7  5  9]\n",
      " [10 15  2  7]]\n"
     ]
    }
   ],
   "source": [
    "print(product)"
   ]
  },
  {
   "cell_type": "markdown",
   "id": "b7e8051d",
   "metadata": {},
   "source": [
    "Element wise Matrix Multiplication"
   ]
  },
  {
   "cell_type": "code",
   "execution_count": 27,
   "id": "092bd7c4",
   "metadata": {},
   "outputs": [],
   "source": [
    "# create two matrices with random values\n",
    "matrix_3 = np.random.randint(5, size=(3,3))\n",
    "matrix_4 = np.random.randint(5, size=(3,3))"
   ]
  },
  {
   "cell_type": "code",
   "execution_count": 28,
   "id": "c4078c94",
   "metadata": {},
   "outputs": [
    {
     "name": "stdout",
     "output_type": "stream",
     "text": [
      "[[0 2 2]\n",
      " [2 4 2]\n",
      " [2 4 3]]\n"
     ]
    }
   ],
   "source": [
    "print(matrix_3)"
   ]
  },
  {
   "cell_type": "code",
   "execution_count": 29,
   "id": "80473779",
   "metadata": {},
   "outputs": [
    {
     "name": "stdout",
     "output_type": "stream",
     "text": [
      "[[3 1 4]\n",
      " [0 3 2]\n",
      " [4 0 4]]\n"
     ]
    }
   ],
   "source": [
    "print(matrix_4)"
   ]
  },
  {
   "cell_type": "code",
   "execution_count": 30,
   "id": "a9bff008",
   "metadata": {},
   "outputs": [],
   "source": [
    "product = np.multiply(matrix_3, matrix_4)"
   ]
  },
  {
   "cell_type": "code",
   "execution_count": 31,
   "id": "9ee8d0e6",
   "metadata": {},
   "outputs": [
    {
     "name": "stdout",
     "output_type": "stream",
     "text": [
      "[[ 0  2  8]\n",
      " [ 0 12  4]\n",
      " [ 8  0 12]]\n"
     ]
    }
   ],
   "source": [
    "print(product)"
   ]
  },
  {
   "cell_type": "code",
   "execution_count": null,
   "id": "ae88494d",
   "metadata": {},
   "outputs": [],
   "source": []
  }
 ],
 "metadata": {
  "kernelspec": {
   "display_name": "venv",
   "language": "python",
   "name": "python3"
  },
  "language_info": {
   "codemirror_mode": {
    "name": "ipython",
    "version": 3
   },
   "file_extension": ".py",
   "mimetype": "text/x-python",
   "name": "python",
   "nbconvert_exporter": "python",
   "pygments_lexer": "ipython3",
   "version": "3.12.4"
  }
 },
 "nbformat": 4,
 "nbformat_minor": 5
}
