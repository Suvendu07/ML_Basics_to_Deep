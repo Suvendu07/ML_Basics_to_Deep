{
 "cells": [
  {
   "cell_type": "code",
   "execution_count": 1,
   "id": "d11db628",
   "metadata": {},
   "outputs": [],
   "source": [
    "import numpy as np"
   ]
  },
  {
   "cell_type": "code",
   "execution_count": 2,
   "id": "4d9ceca7",
   "metadata": {},
   "outputs": [],
   "source": [
    "class Linear_Regression():\n",
    "    \n",
    "    def __init__(self, learning_rate, no_of_iteration):\n",
    "        \n",
    "        self.learning_rate = learning_rate\n",
    "        self.no_of_iteration = no_of_iteration\n",
    "        \n",
    "        \n",
    "    def fit(self, x, y):\n",
    "        \n",
    "        self.m , self.n = x.shape\n",
    "        \n",
    "        \n",
    "        self.w = np.zeros(self.n)\n",
    "        self.b = 0\n",
    "        self.x = x\n",
    "        self.y = y\n",
    "        \n",
    "        \n",
    "        for i in range(self.no_of_iteration):\n",
    "            self.update_weights()\n",
    "            \n",
    "    def update_weights(self):\n",
    "        \n",
    "        y_pred = self.predict(self.x)\n",
    "        \n",
    "        dw = - (2 * (self.x.T).dot(self.y - y_pred)) / self.m\n",
    "        db = - (2 * np.sum(self.y - y_pred)) / self.m\n",
    "        \n",
    "        self.w = self.w - self.learning_rate * dw\n",
    "        self.b = self.b - self.learning_rate * db\n",
    "        \n",
    "    def predict(self, x):\n",
    "        return x.dot(self.w) + self.b"
   ]
  },
  {
   "cell_type": "code",
   "execution_count": null,
   "id": "3519a516",
   "metadata": {},
   "outputs": [],
   "source": []
  }
 ],
 "metadata": {
  "kernelspec": {
   "display_name": "venv",
   "language": "python",
   "name": "python3"
  },
  "language_info": {
   "codemirror_mode": {
    "name": "ipython",
    "version": 3
   },
   "file_extension": ".py",
   "mimetype": "text/x-python",
   "name": "python",
   "nbconvert_exporter": "python",
   "pygments_lexer": "ipython3",
   "version": "3.12.4"
  }
 },
 "nbformat": 4,
 "nbformat_minor": 5
}
