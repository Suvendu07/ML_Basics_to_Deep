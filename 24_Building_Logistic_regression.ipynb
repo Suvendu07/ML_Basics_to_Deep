{
 "cells": [
  {
   "cell_type": "code",
   "execution_count": 1,
   "id": "c5eed89d",
   "metadata": {},
   "outputs": [],
   "source": [
    "import numpy as np"
   ]
  },
  {
   "cell_type": "code",
   "execution_count": 2,
   "id": "7149cbd2",
   "metadata": {},
   "outputs": [],
   "source": [
    "class Logistic_regression():\n",
    "    \n",
    "    def __init__(self,no_of_iteration,learning_rate):\n",
    "        \n",
    "        self.no_of_iteration = no_of_iteration\n",
    "        self.learning_rate = learning_rate\n",
    "        \n",
    "        \n",
    "    def fit(self,x,y):\n",
    "        \n",
    "        self.m, self.n = x.shape\n",
    "        \n",
    "        \n",
    "        self.w = np.zeros(self.n)\n",
    "        \n",
    "        self.b = 0\n",
    "        self.x = x\n",
    "        \n",
    "        self.y = y\n",
    "        \n",
    "        \n",
    "        for i in range(self.no_of_iteration):\n",
    "            self.update_weights()\n",
    "            \n",
    "            \n",
    "    def update_weights(self):\n",
    "        \n",
    "        y_hat = 1 / (1 + np.exp( - (self.X.dot(self.w) + self.b ) ))    \n",
    "        \n",
    "        \n",
    "        dw = (1/self.m)*np.dot(self.X.T, (y_hat - self.Y))\n",
    "\n",
    "        db = (1/self.m)*np.sum(y_hat - self.Y)\n",
    "        \n",
    "        \n",
    "        self.w = self.w - self.learning_rate * dw\n",
    "\n",
    "        self.b = self.b - self.learning_rate * db\n",
    "        \n",
    "        \n",
    "    def predict(self, X):\n",
    "\n",
    "         Y_pred = 1 / (1 + np.exp( - (X.dot(self.w) + self.b ) )) \n",
    "         Y_pred = np.where( Y_pred > 0.5, 1, 0)\n",
    "         return Y_pred"
   ]
  },
  {
   "cell_type": "code",
   "execution_count": null,
   "id": "3ec86977",
   "metadata": {},
   "outputs": [],
   "source": []
  }
 ],
 "metadata": {
  "kernelspec": {
   "display_name": "venv",
   "language": "python",
   "name": "python3"
  },
  "language_info": {
   "codemirror_mode": {
    "name": "ipython",
    "version": 3
   },
   "file_extension": ".py",
   "mimetype": "text/x-python",
   "name": "python",
   "nbconvert_exporter": "python",
   "pygments_lexer": "ipython3",
   "version": "3.12.4"
  }
 },
 "nbformat": 4,
 "nbformat_minor": 5
}
