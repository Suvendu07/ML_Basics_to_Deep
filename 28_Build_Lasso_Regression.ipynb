{
 "cells": [
  {
   "cell_type": "code",
   "execution_count": 1,
   "id": "ba527e60",
   "metadata": {},
   "outputs": [],
   "source": [
    "import numpy as np"
   ]
  },
  {
   "cell_type": "code",
   "execution_count": 2,
   "id": "a8f90c36",
   "metadata": {},
   "outputs": [],
   "source": [
    "class Lasso_Regression():\n",
    "    \n",
    "    def __init__(self,no_of_iteration, learning_rate, lambda_parameters):\n",
    "        \n",
    "        self.no_of_iteration = no_of_iteration\n",
    "        self.learning_rate = learning_rate\n",
    "        self.lambda_parameters = lambda_parameters\n",
    "        \n",
    "        \n",
    "    def fit(self, x, y):\n",
    "        # m -- > no.of data points --> no.of rows\n",
    "        # n --> no.of i/p features --> no.of columns\n",
    "        \n",
    "        self.m, self.n = x.shape\n",
    "        \n",
    "        self.w = np.zeros(self.n)\n",
    "        \n",
    "        self.b = 0\n",
    "        \n",
    "        self.x = x\n",
    "        self.y = y\n",
    "        \n",
    "        \n",
    "        # implementaing gradient descent for lasso regression\n",
    "        \n",
    "        for i in range(no_of_iteration):\n",
    "            self.update_weights()\n",
    "            \n",
    "    \n",
    "    def update_weights(self):\n",
    "        \n",
    "        y_pred = self.predict(self.x)\n",
    "        \n",
    "        dw = np.zeros(self.n)\n",
    "        \n",
    "        for i in range(self.n):\n",
    "            \n",
    "            if self.w[i] > 0:\n",
    "                \n",
    "                 dw[i] = (-(2*(self.X[:,i]).dot(self.Y - y_pred)) + self.lambda_parameter) / self.m \n",
    "\n",
    "            else :\n",
    "\n",
    "                 dw[i] = (-(2*(self.X[:,i]).dot(self.Y - y_pred)) - self.lambda_parameter) / self.m\n",
    "                 \n",
    "        db = -2 * np.sum(self.y - y_pred) / self.m\n",
    "        \n",
    "        \n",
    "        self.w = self.w - self.learning_rate * dw\n",
    "        self.b = self.b - self.learning_rate * db\n",
    "        \n",
    "    \n",
    "    def predict(self, x):\n",
    "             \n",
    "             return x.dot(self.w) + self.b"
   ]
  },
  {
   "cell_type": "code",
   "execution_count": null,
   "id": "718d6f48",
   "metadata": {},
   "outputs": [],
   "source": []
  }
 ],
 "metadata": {
  "kernelspec": {
   "display_name": "venv",
   "language": "python",
   "name": "python3"
  },
  "language_info": {
   "codemirror_mode": {
    "name": "ipython",
    "version": 3
   },
   "file_extension": ".py",
   "mimetype": "text/x-python",
   "name": "python",
   "nbconvert_exporter": "python",
   "pygments_lexer": "ipython3",
   "version": "3.12.4"
  }
 },
 "nbformat": 4,
 "nbformat_minor": 5
}
